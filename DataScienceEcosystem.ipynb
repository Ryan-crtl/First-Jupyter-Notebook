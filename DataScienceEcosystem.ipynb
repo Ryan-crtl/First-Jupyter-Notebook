{
 "cells": [
  {
   "cell_type": "markdown",
   "id": "020bd90c-51c7-4d5e-81b5-37a7e20ab2bd",
   "metadata": {},
   "source": [
    "# Data Science Tools and Ecosystem"
   ]
  },
  {
   "cell_type": "markdown",
   "id": "d2242a52-390b-44cf-9004-d299967f3492",
   "metadata": {},
   "source": [
    "In this notebook, Data Science Tools and Ecosystem are summarized"
   ]
  },
  {
   "cell_type": "markdown",
   "id": "a1cac041-effa-463a-9390-b48b5bed3ef6",
   "metadata": {},
   "source": [
    "Objectives:\n",
    "- List popular languages for Data Science\n",
    "- Show ability to make tables\n",
    "- Display basic python arithmetic\n",
    "- Converting minutes to Hours"
   ]
  },
  {
   "cell_type": "markdown",
   "id": "8d11d706-c952-4a4e-b5a6-a7404c112b63",
   "metadata": {},
   "source": [
    "Some of the popular languages that Data Scientists use are:\n",
    "1. Python\n",
    "2. R\n",
    "3. Java\n",
    "4. Scala\n",
    "5. SQL\n"
   ]
  },
  {
   "cell_type": "markdown",
   "id": "2bc63f27-69fb-40ac-959d-d1c01a595006",
   "metadata": {},
   "source": [
    " |Data Science Tools|\n",
    "| -------------|\n",
    "| RStudio | \n",
    "| Apache Spark |\n",
    "| Apache Hadoop | \n"
   ]
  },
  {
   "cell_type": "markdown",
   "id": "c67181b1-b24b-46d4-8acd-cfec41dd2a8e",
   "metadata": {},
   "source": [
    "### Below are a few examples of evaluating arithmetic expressions in Python"
   ]
  },
  {
   "cell_type": "code",
   "execution_count": 1,
   "id": "b7e33983-2b58-4c68-8cf2-57ba1fc2c94c",
   "metadata": {},
   "outputs": [
    {
     "data": {
      "text/plain": [
       "17"
      ]
     },
     "execution_count": 1,
     "metadata": {},
     "output_type": "execute_result"
    }
   ],
   "source": [
    "#This is a simple arithmetic expression to multiply then add integers\n",
    "(3*4)+5"
   ]
  },
  {
   "cell_type": "code",
   "execution_count": 12,
   "id": "7f3dbd18-e372-4405-ba5c-68b05e6fae21",
   "metadata": {},
   "outputs": [
    {
     "name": "stdout",
     "output_type": "stream",
     "text": [
      "200 minutes is  3.3333333333333335  hours\n"
     ]
    }
   ],
   "source": [
    "# This will convert 200 minutes to hours by dividing by 60\n",
    "\n",
    "hours = 200/60\n",
    "print(\"200 minutes is \",hours, \" hours\")"
   ]
  },
  {
   "cell_type": "markdown",
   "id": "0c6168ba-ad16-4ec7-b0a3-a6e3c523e6c7",
   "metadata": {},
   "source": [
    "## Author\n",
    "Ryan Putnam"
   ]
  }
 ],
 "metadata": {
  "kernelspec": {
   "display_name": "Python 3 (ipykernel)",
   "language": "python",
   "name": "python3"
  },
  "language_info": {
   "codemirror_mode": {
    "name": "ipython",
    "version": 3
   },
   "file_extension": ".py",
   "mimetype": "text/x-python",
   "name": "python",
   "nbconvert_exporter": "python",
   "pygments_lexer": "ipython3",
   "version": "3.11.9"
  }
 },
 "nbformat": 4,
 "nbformat_minor": 5
}
